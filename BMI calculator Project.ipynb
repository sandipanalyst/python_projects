{
 "cells": [
  {
   "cell_type": "code",
   "execution_count": null,
   "id": "b8f61f80-7019-48c4-8a7a-63b81204696e",
   "metadata": {},
   "outputs": [],
   "source": [
    "#BMI = (weight in pounds * 703) / (height in inches * height in inches)"
   ]
  },
  {
   "cell_type": "code",
   "execution_count": null,
   "id": "27ccf74b-ab88-464b-a27b-27231ed39522",
   "metadata": {},
   "outputs": [],
   "source": []
  },
  {
   "cell_type": "code",
   "execution_count": 32,
   "id": "58cf4485-609b-44c6-95c2-4ee920d59478",
   "metadata": {},
   "outputs": [
    {
     "name": "stdin",
     "output_type": "stream",
     "text": [
      "Enter your name Sandip\n",
      "Enter your weight in Kilograms(kg) 56\n",
      "Enter your height in centimeters(cm) 175\n"
     ]
    },
    {
     "name": "stdout",
     "output_type": "stream",
     "text": [
      "18.285714285714285\n",
      "Sandip, you're Underweight and have Minimal Health Risk\n"
     ]
    }
   ],
   "source": [
    "name = input(\"Enter your name\")\n",
    "weight = int(input(\"Enter your weight in Kilograms(kg)\"))\n",
    "height = int(input(\"Enter your height in centimeters(cm)\"))\n",
    "\n",
    "BMI = weight / ((height / 100)**2)\n",
    "print(BMI)\n",
    "\n",
    "if BMI > 0 :\n",
    "    if BMI < 18.5:\n",
    "        print(name + \", you're Underweight and have Minimal Health Risk\")\n",
    "    elif BMI <=24.9:\n",
    "        print(name + \", you're Normal weight and have Minimal Health Risk\")\n",
    "    elif BMI <=29.9:\n",
    "        print(name + \", you're Overweight and have Increased Health Risk\")\n",
    "    elif BMI <=34.9:\n",
    "        print(name + \", you're Obese and have High Health Risk\")\n",
    "    elif BMI <=39.9:\n",
    "        print(name + \", you're Severly Obese and have Very High Health Risk\")\n",
    "    elif BMI >= 40:\n",
    "        print(name + \", you're Morbidly Obese and have Extremely High Health Risk\")\n",
    "else : \n",
    "    print(\"Please enter the data correctly!\")"
   ]
  },
  {
   "cell_type": "code",
   "execution_count": null,
   "id": "f1c98d23-8dcc-43a9-b676-b522796f4523",
   "metadata": {},
   "outputs": [],
   "source": []
  },
  {
   "cell_type": "code",
   "execution_count": null,
   "id": "55e719ff-7431-449e-965b-72dcdb8bee48",
   "metadata": {},
   "outputs": [],
   "source": []
  },
  {
   "cell_type": "code",
   "execution_count": null,
   "id": "a7ae5ea1-252d-42f0-b65f-b24c0a901d33",
   "metadata": {},
   "outputs": [],
   "source": []
  },
  {
   "cell_type": "code",
   "execution_count": null,
   "id": "9c9b1e02-daeb-4803-8ade-eea19b70df82",
   "metadata": {},
   "outputs": [],
   "source": []
  },
  {
   "cell_type": "code",
   "execution_count": null,
   "id": "0b8b1515-30c9-4cd7-8571-72e45a2a999d",
   "metadata": {},
   "outputs": [],
   "source": []
  },
  {
   "cell_type": "code",
   "execution_count": null,
   "id": "64c6172e-695d-48b6-b59a-0be41274732a",
   "metadata": {},
   "outputs": [],
   "source": []
  },
  {
   "cell_type": "code",
   "execution_count": null,
   "id": "97a2bf11-1af6-4350-a00a-a68bdfec8239",
   "metadata": {},
   "outputs": [],
   "source": []
  },
  {
   "cell_type": "code",
   "execution_count": null,
   "id": "70b6ad2f-8b8d-40b3-9e53-7e67178cdce5",
   "metadata": {},
   "outputs": [],
   "source": []
  },
  {
   "cell_type": "code",
   "execution_count": null,
   "id": "d06c8c1c-2912-4208-a5f5-0092de2fc02a",
   "metadata": {},
   "outputs": [],
   "source": []
  },
  {
   "cell_type": "code",
   "execution_count": null,
   "id": "63d51701-8bb9-4cee-b65c-a758605e9fdf",
   "metadata": {},
   "outputs": [],
   "source": []
  },
  {
   "cell_type": "code",
   "execution_count": null,
   "id": "e845a90f-0bf8-40bc-878a-c9c605fd1d9a",
   "metadata": {},
   "outputs": [],
   "source": []
  },
  {
   "cell_type": "code",
   "execution_count": null,
   "id": "5fb04bca-9067-4531-a3ab-c21e73e4e15a",
   "metadata": {},
   "outputs": [],
   "source": []
  },
  {
   "cell_type": "code",
   "execution_count": null,
   "id": "fbf64ab4-cff6-4ec8-9de7-82a5fd8a6139",
   "metadata": {},
   "outputs": [],
   "source": []
  },
  {
   "cell_type": "code",
   "execution_count": null,
   "id": "5fbf81d9-bbca-48ad-bc06-d529735b3049",
   "metadata": {},
   "outputs": [],
   "source": []
  },
  {
   "cell_type": "code",
   "execution_count": null,
   "id": "c24efa84-4a35-44dc-9f7b-8d643ce21868",
   "metadata": {},
   "outputs": [],
   "source": []
  },
  {
   "cell_type": "code",
   "execution_count": null,
   "id": "08104000-5d14-463b-ad96-192417f30663",
   "metadata": {},
   "outputs": [],
   "source": []
  },
  {
   "cell_type": "code",
   "execution_count": null,
   "id": "7a9d76a8-3736-4ada-a4fa-ed642816d0eb",
   "metadata": {},
   "outputs": [],
   "source": []
  },
  {
   "cell_type": "code",
   "execution_count": null,
   "id": "0d566737-cbd1-410a-be28-75e55ccf6f9a",
   "metadata": {},
   "outputs": [],
   "source": []
  },
  {
   "cell_type": "code",
   "execution_count": null,
   "id": "45d48a57-941c-4e43-8367-f66edbf97b5c",
   "metadata": {},
   "outputs": [],
   "source": []
  }
 ],
 "metadata": {
  "kernelspec": {
   "display_name": "Python 3 (ipykernel)",
   "language": "python",
   "name": "python3"
  },
  "language_info": {
   "codemirror_mode": {
    "name": "ipython",
    "version": 3
   },
   "file_extension": ".py",
   "mimetype": "text/x-python",
   "name": "python",
   "nbconvert_exporter": "python",
   "pygments_lexer": "ipython3",
   "version": "3.12.4"
  }
 },
 "nbformat": 4,
 "nbformat_minor": 5
}
